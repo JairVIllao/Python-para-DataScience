{
 "cells": [
  {
   "cell_type": "code",
   "execution_count": 1,
   "metadata": {},
   "outputs": [],
   "source": [
    "prestamos = [2300, 3214, 3450, 1980, 2020, 4530]\n",
    "personas = [ \"Juan\", \"María\", \"Andrés\", \"Carlos\", \"Vanessa\", \"Lucía\"]"
   ]
  },
  {
   "cell_type": "code",
   "execution_count": 2,
   "metadata": {},
   "outputs": [
    {
     "name": "stdout",
     "output_type": "stream",
     "text": [
      "2300 Juan\n"
     ]
    }
   ],
   "source": [
    "print(prestamos[0], personas[0])"
   ]
  },
  {
   "cell_type": "markdown",
   "metadata": {},
   "source": [
    "# Ejercicio\n",
    "\n",
    "Muestre solo los nombres y el valor de los prestamos para montos mayores que 3500 o menores iguales que 2100\n",
    "\n",
    "`\n",
    "prestamos = [2300, 3214, 3450, 1980, 2020, 4530]\n",
    "personas = [ \"Juan\", \"María\", \"Andrés\", \"Carlos\", \"Vanessa\", \"Lucía\"]\n",
    "`"
   ]
  },
  {
   "cell_type": "markdown",
   "metadata": {},
   "source": [
    "## Slicing (Rebanadas)"
   ]
  },
  {
   "cell_type": "code",
   "execution_count": 3,
   "metadata": {},
   "outputs": [
    {
     "name": "stdout",
     "output_type": "stream",
     "text": [
      "[2300, 3214, 3450, 1980] ['Juan', 'María', 'Andrés', 'Carlos']\n"
     ]
    }
   ],
   "source": [
    "print(prestamos[0:4], personas[0:4])"
   ]
  },
  {
   "cell_type": "code",
   "execution_count": 4,
   "metadata": {},
   "outputs": [
    {
     "name": "stdout",
     "output_type": "stream",
     "text": [
      "[3450, 1980, 2020] ['Andrés', 'Carlos', 'Vanessa']\n"
     ]
    }
   ],
   "source": [
    "print(prestamos[2:5], personas[2:5])"
   ]
  },
  {
   "cell_type": "markdown",
   "metadata": {},
   "source": [
    "## Ejercicio\n",
    "\n",
    "Mostrar las siguientes rebanadas\n",
    "\n",
    "* Los primeros 3 elementos\n",
    "* Los últimos 3 elementos \n",
    "* Desde el índice 1 hasta el tres"
   ]
  },
  {
   "cell_type": "code",
   "execution_count": 5,
   "metadata": {},
   "outputs": [
    {
     "name": "stdout",
     "output_type": "stream",
     "text": [
      "El valor máximo de préstamos es  4530\n"
     ]
    }
   ],
   "source": [
    "maximo = max(prestamos)\n",
    "print(\"El valor máximo de préstamos es \", maximo)"
   ]
  },
  {
   "cell_type": "code",
   "execution_count": 6,
   "metadata": {},
   "outputs": [
    {
     "name": "stdout",
     "output_type": "stream",
     "text": [
      "El índice del valor máximo es  5\n"
     ]
    }
   ],
   "source": [
    "indiceMax = prestamos.index(maximo)\n",
    "print('El índice del valor máximo es ', indiceMax)"
   ]
  },
  {
   "cell_type": "code",
   "execution_count": 7,
   "metadata": {},
   "outputs": [
    {
     "name": "stdout",
     "output_type": "stream",
     "text": [
      "La persona con el valor máximo del monto es  Lucía\n"
     ]
    }
   ],
   "source": [
    "print(\"La persona con el valor máximo del monto es \", personas[indiceMax])"
   ]
  },
  {
   "cell_type": "code",
   "execution_count": 8,
   "metadata": {},
   "outputs": [
    {
     "name": "stdout",
     "output_type": "stream",
     "text": [
      "[200, 1200]\n"
     ]
    }
   ],
   "source": [
    "pagos = []\n",
    "\n",
    "pagos.append(200)\n",
    "pagos.append(1200)\n",
    "print(pagos)"
   ]
  },
  {
   "cell_type": "markdown",
   "metadata": {},
   "source": [
    "## Ejercicio\n",
    "\n",
    "Mediante un for, agregue el resto de pagos mediante el ingreso de valores a la lista `pagos`"
   ]
  },
  {
   "cell_type": "markdown",
   "metadata": {},
   "source": [
    "## Ejercicio\n",
    "\n",
    "Contamos con dos listas paralelas y relacionadas con las listas anteriores\n",
    "\n",
    "`\n",
    "moraJunio = [20, 0, 10, 12, 10, 15]\n",
    "moraJulio = [0 , 0,  0, 10, 15, 10]\n",
    "`\n",
    "\n",
    "<br>\n",
    "Muestre el total de mora por cada persona\n"
   ]
  },
  {
   "cell_type": "markdown",
   "metadata": {},
   "source": [
    "## Arreglos"
   ]
  },
  {
   "cell_type": "code",
   "execution_count": 9,
   "metadata": {},
   "outputs": [],
   "source": [
    "import numpy as np"
   ]
  },
  {
   "cell_type": "code",
   "execution_count": 16,
   "metadata": {},
   "outputs": [],
   "source": [
    "aPrestamos = np.array([2300, 3214, 3450, 1980, 2020, 4530])\n",
    "aPersonas = np.array(personas)"
   ]
  },
  {
   "cell_type": "code",
   "execution_count": 13,
   "metadata": {},
   "outputs": [
    {
     "name": "stdout",
     "output_type": "stream",
     "text": [
      "[2300 3214 3450 1980 2020 4530]\n"
     ]
    }
   ],
   "source": [
    "print(aPrestamos)"
   ]
  },
  {
   "cell_type": "code",
   "execution_count": 14,
   "metadata": {},
   "outputs": [
    {
     "name": "stdout",
     "output_type": "stream",
     "text": [
      "Juan\n"
     ]
    }
   ],
   "source": [
    "print(aPersonas[0])"
   ]
  },
  {
   "cell_type": "code",
   "execution_count": 18,
   "metadata": {},
   "outputs": [
    {
     "name": "stdout",
     "output_type": "stream",
     "text": [
      "['Juan' 'María' 'Andrés']\n"
     ]
    }
   ],
   "source": [
    "print(aPersonas[0:3])"
   ]
  },
  {
   "cell_type": "code",
   "execution_count": 19,
   "metadata": {},
   "outputs": [
    {
     "name": "stdout",
     "output_type": "stream",
     "text": [
      "El valor mínimo es  1980\n",
      "El índice del valor mínimo es  3\n"
     ]
    }
   ],
   "source": [
    "minimo = aPrestamos.min()\n",
    "indiceMin = aPrestamos.argmin()\n",
    "\n",
    "print(\"El valor mínimo es \", minimo)\n",
    "print('El índice del valor mínimo es ',indiceMin)"
   ]
  },
  {
   "cell_type": "markdown",
   "metadata": {},
   "source": [
    "## Orden"
   ]
  },
  {
   "cell_type": "code",
   "execution_count": 22,
   "metadata": {},
   "outputs": [
    {
     "name": "stdout",
     "output_type": "stream",
     "text": [
      "[1980 2020 2300 3214 3450 4530]\n",
      "[3 4 0 1 2 5]\n"
     ]
    }
   ],
   "source": [
    "valoresOrdenados = np.sort(prestamos)\n",
    "indicesOrdenados = np.argsort(prestamos)\n",
    "\n",
    "print(valoresOrdenados)\n",
    "print(indicesOrdenados)"
   ]
  },
  {
   "cell_type": "markdown",
   "metadata": {},
   "source": [
    "## Ejercicio\n",
    "\n",
    "Muestre los nombres de las personas ordenadas de acuerdo al valor del préstamo"
   ]
  },
  {
   "cell_type": "markdown",
   "metadata": {},
   "source": [
    "## Indexación booleana"
   ]
  },
  {
   "cell_type": "code",
   "execution_count": 23,
   "metadata": {},
   "outputs": [
    {
     "name": "stdout",
     "output_type": "stream",
     "text": [
      "[False  True  True False False  True]\n"
     ]
    }
   ],
   "source": [
    "mascara = aPrestamos > 3000\n",
    "print(mascara)"
   ]
  },
  {
   "cell_type": "code",
   "execution_count": 24,
   "metadata": {},
   "outputs": [
    {
     "name": "stdout",
     "output_type": "stream",
     "text": [
      "[3214 3450 4530]\n",
      "['María' 'Andrés' 'Lucía']\n"
     ]
    }
   ],
   "source": [
    "print(aPrestamos[mascara])\n",
    "print(aNombres[mascara])"
   ]
  },
  {
   "cell_type": "code",
   "execution_count": 25,
   "metadata": {},
   "outputs": [],
   "source": [
    "aPagoEnero = np.array([1200, 3200, 392, 230, 340, 1200])\n",
    "aPagoFebrero = np.array([1100, 0, 1292, 1500, 1040, 1500])"
   ]
  },
  {
   "cell_type": "code",
   "execution_count": 27,
   "metadata": {},
   "outputs": [
    {
     "name": "stdout",
     "output_type": "stream",
     "text": [
      "[2300 3200 1684 1730 1380 2700]\n"
     ]
    }
   ],
   "source": [
    "aPagoTotal = aPagoEnero+aPagoFebrero\n",
    "print(aPagoTotal)"
   ]
  },
  {
   "cell_type": "code",
   "execution_count": 29,
   "metadata": {},
   "outputs": [
    {
     "name": "stdout",
     "output_type": "stream",
     "text": [
      "[   0   14 1766  250  640 1830]\n"
     ]
    }
   ],
   "source": [
    "print(aPrestamos - aPagoTotal)"
   ]
  },
  {
   "cell_type": "markdown",
   "metadata": {},
   "source": [
    "## Ejercicio\n",
    "\n",
    "Mostrar los nombres de las personas que tengan menos de $500 pendientes por pagar"
   ]
  },
  {
   "cell_type": "markdown",
   "metadata": {},
   "source": [
    "## Operaciones escalares"
   ]
  },
  {
   "cell_type": "code",
   "execution_count": 30,
   "metadata": {},
   "outputs": [],
   "source": [
    "aMora = aPrestamos * 0.10"
   ]
  },
  {
   "cell_type": "code",
   "execution_count": 31,
   "metadata": {},
   "outputs": [
    {
     "name": "stdout",
     "output_type": "stream",
     "text": [
      "[230.  321.4 345.  198.  202.  453. ]\n"
     ]
    }
   ],
   "source": [
    "print(aMora)"
   ]
  },
  {
   "cell_type": "markdown",
   "metadata": {},
   "source": [
    "## Ejercicio\n",
    "\n",
    "Aplique el impuesto del 0.02% a los pagos pendientes mayores de $1500. Muestre el nuevo total a pagar"
   ]
  },
  {
   "cell_type": "markdown",
   "metadata": {},
   "source": [
    "## Matplotlib"
   ]
  },
  {
   "cell_type": "code",
   "execution_count": 33,
   "metadata": {},
   "outputs": [
    {
     "data": {
      "image/png": "[encoded data removed]",
      "text/plain": [
       "<Figure size 432x288 with 1 Axes>"
      ]
     },
     "metadata": {
      "needs_background": "light"
     },
     "output_type": "display_data"
    }
   ],
   "source": [
    "#https://matplotlib.org/tutorials/introductory/pyplot.html\n",
    "\n",
    "import matplotlib.pyplot as plt\n",
    "plt.bar(aNombres, aPagoTotal, color = 'g', align = 'center')\n",
    "plt.ylabel('Pago total dólares')\n",
    "plt.xlabel('Personas')\n",
    "plt.show()"
   ]
  },
  {
   "cell_type": "code",
   "execution_count": 34,
   "metadata": {},
   "outputs": [
    {
     "data": {
      "text/plain": [
       "<BarContainer object of 6 artists>"
      ]
     },
     "execution_count": 34,
     "metadata": {},
     "output_type": "execute_result"
    },
    {
     "data": {
      "image/png": "[encoded data removed]",
      "text/plain": [
       "<Figure size 432x288 with 1 Axes>"
      ]
     },
     "metadata": {
      "needs_background": "light"
     },
     "output_type": "display_data"
    }
   ],
   "source": [
    "plt.bar(aNombres, aPrestamos, align = 'center')\n",
    "plt.bar(aNombres, aPagoTotal , align = 'center')"
   ]
  },
  {
   "cell_type": "markdown",
   "metadata": {},
   "source": [
    "## Matrices"
   ]
  },
  {
   "cell_type": "code",
   "execution_count": 35,
   "metadata": {},
   "outputs": [],
   "source": [
    "#precio, precio por unidad, unidades vendidas y calificacion\n",
    "ventas = np.genfromtxt('ventas.csv', delimiter=',', dtype='float')"
   ]
  },
  {
   "cell_type": "code",
   "execution_count": 36,
   "metadata": {},
   "outputs": [
    {
     "data": {
      "text/plain": [
       "array([[1.60e+01, 1.40e+01, 1.00e+02, 3.76e+00],\n",
       "       [8.00e+00, 2.20e+01, 2.00e+04, 3.45e+00],\n",
       "       [8.00e+00, 4.30e+01, 1.00e+02, 3.57e+00],\n",
       "       ...,\n",
       "       [5.00e+00, 1.90e+01, 1.00e+02, 3.71e+00],\n",
       "       [1.30e+01, 1.10e+01, 1.00e+02, 2.50e+00],\n",
       "       [7.00e+00, 6.00e+00, 1.00e+02, 4.07e+00]])"
      ]
     },
     "execution_count": 36,
     "metadata": {},
     "output_type": "execute_result"
    }
   ],
   "source": [
    "ventas"
   ]
  },
  {
   "cell_type": "code",
   "execution_count": 37,
   "metadata": {},
   "outputs": [
    {
     "data": {
      "text/plain": [
       "array([3.76, 3.45, 3.57, ..., 3.71, 2.5 , 4.07])"
      ]
     },
     "execution_count": 37,
     "metadata": {},
     "output_type": "execute_result"
    }
   ],
   "source": [
    "ventas[:,3]"
   ]
  },
  {
   "cell_type": "code",
   "execution_count": 38,
   "metadata": {},
   "outputs": [
    {
     "data": {
      "text/plain": [
       "5.0"
      ]
     },
     "execution_count": 38,
     "metadata": {},
     "output_type": "execute_result"
    }
   ],
   "source": [
    "np.max(ventas[:,3])"
   ]
  },
  {
   "cell_type": "code",
   "execution_count": 39,
   "metadata": {},
   "outputs": [
    {
     "data": {
      "text/plain": [
       "array(['2020 Summer Vintage Flamingo Print  Pajamas Set Casual Loose T Shirt Top And Elastic Shorts Women Sleepwear Night Wear Loungewear Sets',\n",
       "       \"Women's Casual Summer Sleeveless Sexy Mini Dress\",\n",
       "       '2020 New Arrival Women Spring and Summer Beach Wear Long Thin Cardigan Open Front Kimono Green Leaf Printed Chiffon Cardigan S-5XL',\n",
       "       ...,\n",
       "       'New Men Siwmwear Beach-Shorts Men Summer Quick-Dry Short Swim-Shorts Beach-Wear Sports',\n",
       "       'Fashion Women Summer Sleeveless Dresses V Neck Backless Lace Dress Ladies Beach Dresses White Dress',\n",
       "       'Fashion Women Yoga Pants Slim Fit Fitness Running Leggings'],\n",
       "      dtype='<U272')"
      ]
     },
     "execution_count": 39,
     "metadata": {},
     "output_type": "execute_result"
    }
   ],
   "source": [
    "nombres = np.loadtxt('nombres.csv',encoding='utf-8', dtype='str', delimiter='\\n')\n",
    "nombres"
   ]
  },
  {
   "cell_type": "code",
   "execution_count": 40,
   "metadata": {},
   "outputs": [
    {
     "data": {
      "text/plain": [
       "70"
      ]
     },
     "execution_count": 40,
     "metadata": {},
     "output_type": "execute_result"
    }
   ],
   "source": [
    "np.size(nombres[ventas[:,3]==5])"
   ]
  },
  {
   "cell_type": "code",
   "execution_count": 46,
   "metadata": {},
   "outputs": [
    {
     "data": {
      "text/plain": [
       "((1573,), (1573,))"
      ]
     },
     "execution_count": 46,
     "metadata": {},
     "output_type": "execute_result"
    }
   ],
   "source": [
    "r = ventas[:,0] * ventas[:,1]\n",
    "r.shape, ventas[:,0].shape"
   ]
  },
  {
   "cell_type": "code",
   "execution_count": null,
   "metadata": {},
   "outputs": [],
   "source": []
  },
  {
   "cell_type": "code",
   "execution_count": null,
   "metadata": {},
   "outputs": [],
   "source": []
  },
  {
   "cell_type": "code",
   "execution_count": null,
   "metadata": {},
   "outputs": [],
   "source": []
  },
  {
   "cell_type": "code",
   "execution_count": null,
   "metadata": {},
   "outputs": [],
   "source": []
  },
  {
   "cell_type": "code",
   "execution_count": null,
   "metadata": {},
   "outputs": [],
   "source": []
  },
  {
   "cell_type": "code",
   "execution_count": null,
   "metadata": {},
   "outputs": [],
   "source": []
  },
  {
   "cell_type": "code",
   "execution_count": null,
   "metadata": {},
   "outputs": [],
   "source": []
  },
  {
   "cell_type": "code",
   "execution_count": null,
   "metadata": {},
   "outputs": [],
   "source": []
  },
  {
   "cell_type": "code",
   "execution_count": null,
   "metadata": {},
   "outputs": [],
   "source": [
    "#import pandas as pd\n",
    "\n",
    "#data = pd.read_csv(\"C:\\\\Users\\PC\\Downloads\\819786_1402528_bundle_archive\\summer-products-with-rating-and-performance_2020-08.csv\")\n",
    "#data.shape"
   ]
  },
  {
   "cell_type": "code",
   "execution_count": null,
   "metadata": {},
   "outputs": [],
   "source": [
    "#data['title_orig'].to_csv('nombres.csv',header=False, index=False,encoding='utf-8')\n",
    "#data[['price','retail_price', 'units_sold', 'rating']].to_csv('ventas.csv',header=False, index=False)"
   ]
  }
 ],
 "metadata": {
  "kernelspec": {
   "display_name": "Python 3",
   "language": "python",
   "name": "python3"
  },
  "language_info": {
   "codemirror_mode": {
    "name": "ipython",
    "version": 3
   },
   "file_extension": ".py",
   "mimetype": "text/x-python",
   "name": "python",
   "nbconvert_exporter": "python",
   "pygments_lexer": "ipython3",
   "version": "3.8.3"
  }
 },
 "nbformat": 4,
 "nbformat_minor": 4
}
