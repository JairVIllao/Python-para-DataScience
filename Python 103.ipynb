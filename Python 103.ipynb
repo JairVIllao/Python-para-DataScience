{
 "cells": [
  {
   "cell_type": "markdown",
   "metadata": {},
   "source": [
    "# Procesamiento de datasets con Numpy"
   ]
  },
  {
   "cell_type": "markdown",
   "metadata": {},
   "source": [
    "## Ecommerce Wish \n",
    "\n",
    "Para la siguiente práctica, se tomó parte del dataset de las <a href='https://www.kaggle.com/jmmvutu/summer-products-and-sales-in-ecommerce-wish'>ventas de productos de verano de E-commerce Wish</a> que aparece en <a href='https://www.kaggle.com/'>Kaggle</a>."
   ]
  },
  {
   "cell_type": "code",
   "execution_count": 54,
   "metadata": {},
   "outputs": [],
   "source": [
    "import numpy as np"
   ]
  },
  {
   "cell_type": "code",
   "execution_count": 55,
   "metadata": {},
   "outputs": [
    {
     "data": {
      "text/plain": [
       "(62,)"
      ]
     },
     "execution_count": 55,
     "metadata": {},
     "output_type": "execute_result"
    }
   ],
   "source": [
    "nombres = np.loadtxt('datos/summer_products/nombres.csv',encoding='utf-8', dtype='str', delimiter='\\n')\n",
    "nombres.shape"
   ]
  },
  {
   "cell_type": "code",
   "execution_count": 56,
   "metadata": {},
   "outputs": [
    {
     "data": {
      "text/plain": [
       "array([\"5 Color Women's Fashion Summer Slim Sleeveless Camouflage Print Dress High Waist Lace Up Casual Pocket Mini Dresses Plus Size S-5XL\",\n",
       "       'Sexy Solid Ruffled Chiffon Sling Top Pure Color Women Summer Tank Top Plus Size',\n",
       "       'Women Fashion Short Jumpsuit Spaghetti Strap Sleeveless Rompers Summer One Piece Set Casual Summer Outfits',\n",
       "       '2018 New Fashion Women Casual Playsuit Ladies Jumpsuit Romper Summer Floral Playsuit Brand New (3 Colors)',\n",
       "       'Summer Fashion Women Round Neck Sleeveless Pure Color Casual Pocket Dress'],\n",
       "      dtype='<U181')"
      ]
     },
     "execution_count": 56,
     "metadata": {},
     "output_type": "execute_result"
    }
   ],
   "source": [
    "# Nombre de los 5 primeros productos\n",
    "nombres[:5]"
   ]
  },
  {
   "cell_type": "code",
   "execution_count": 57,
   "metadata": {},
   "outputs": [
    {
     "data": {
      "text/plain": [
       "(62,)"
      ]
     },
     "execution_count": 57,
     "metadata": {},
     "output_type": "execute_result"
    }
   ],
   "source": [
    "etiquetas = np.loadtxt('datos/summer_products/etiquetas.csv',encoding='utf-8', dtype='str', delimiter='\\n')\n",
    "etiquetas.shape"
   ]
  },
  {
   "cell_type": "code",
   "execution_count": 58,
   "metadata": {},
   "outputs": [
    {
     "data": {
      "text/plain": [
       "array(['\"Summer,Plus Size,Lace,Mini,Dress,slim,camouflage,Mini dress,Pocket,high waist,Women\\'s Fashion,Fashion,Lace Up,t,print dress,Print,sleeveless,bodycon,Casual,Women Fashion,Waist\"',\n",
       "       '\"Summer,Plus Size,ruffle,ruffled,chiffon,Tank,Pure Color,Cami,tank top,Women\\'s Fashion,Fashion,V-neck,blousesampshirt,sexy,Tops,Women\"',\n",
       "       '\"Summer,Shorts,Women,shortromper,Spaghetti,onepiece,Spaghetti Strap,One-Piece Suits,shortjumpsuit,Women\\'s Fashion,Fashion,Casual,summerjumpsuit,sleeveless,Rompers,women Jumpsuit,playsuit,jumpsuit\"',\n",
       "       '\"Summer,Shorts,Rompers,Casual,Ladies,Women\\'s Fashion,Fashion,off shoulder,sexy,Floral,sleeveless,Women,Beach,playsuit,jumpsuit\"',\n",
       "       '\"Round neck,Plus Size,Necks,Summer,Dress,Loose,Pocket,Women\\'s Fashion,Fashion,Pure Color,sleeveless,Casual,Women\"'],\n",
       "      dtype='<U368')"
      ]
     },
     "execution_count": 58,
     "metadata": {},
     "output_type": "execute_result"
    }
   ],
   "source": [
    "# Etiquetas de los 5 primeros productos \n",
    "etiquetas[:5]"
   ]
  },
  {
   "cell_type": "code",
   "execution_count": 59,
   "metadata": {},
   "outputs": [
    {
     "data": {
      "text/plain": [
       "(62, 8)"
      ]
     },
     "execution_count": 59,
     "metadata": {},
     "output_type": "execute_result"
    }
   ],
   "source": [
    "ventas = np.genfromtxt('datos/summer_products/ventas.csv', delimiter=',', dtype='float')\n",
    "\n",
    "#62 filas, 8 columnas\n",
    "ventas.shape"
   ]
  },
  {
   "cell_type": "code",
   "execution_count": 60,
   "metadata": {},
   "outputs": [
    {
     "data": {
      "text/plain": [
       "array([[1.30e+01, 1.30e+01, 1.00e+03, 8.20e+01, 2.70e+01, 1.00e+01,\n",
       "        7.00e+00, 1.20e+01],\n",
       "       [9.00e+00, 8.00e+00, 5.00e+03, 4.00e+02, 1.42e+02, 1.03e+02,\n",
       "        4.50e+01, 5.30e+01],\n",
       "       [7.00e+00, 6.00e+00, 1.00e+02, 3.00e+01, 1.40e+01, 5.00e+00,\n",
       "        1.00e+00, 3.00e+00],\n",
       "       [1.10e+01, 1.00e+01, 5.00e+03, 4.47e+02, 2.01e+02, 1.35e+02,\n",
       "        8.10e+01, 1.44e+02],\n",
       "       [7.00e+00, 9.00e+00, 1.00e+03, 1.01e+02, 3.60e+01, 3.80e+01,\n",
       "        1.50e+01, 2.90e+01]])"
      ]
     },
     "execution_count": 60,
     "metadata": {},
     "output_type": "execute_result"
    }
   ],
   "source": [
    "# 'precio','precio al por menor', 'unidades vendidas', 'votos por 5 estrellas', 'votos por 4 estrellas', 'votos por 3 estrellas','votos por 2 estrellas', 'votos por 1 estrellas'\n",
    "# Todos las columnas de los 5 primeros productos\n",
    "ventas[:5,:]"
   ]
  },
  {
   "cell_type": "code",
   "execution_count": 61,
   "metadata": {},
   "outputs": [
    {
     "data": {
      "text/plain": [
       "array([13.  ,  9.  ,  7.  , 11.  ,  7.  , 11.  , 19.  , 11.  , 11.  ,\n",
       "        8.  , 13.  , 11.  ,  2.66,  3.67, 12.  ,  7.  ,  4.73, 11.  ,\n",
       "       11.  ,  7.  ,  5.  , 11.  ,  7.  , 11.  ,  8.  ,  9.  ,  9.  ,\n",
       "        5.74,  9.  , 11.  , 12.  ,  5.74, 12.  ,  7.  ,  3.  ,  6.  ,\n",
       "        9.  ,  7.  ,  8.  ,  2.  , 11.  , 12.  ,  8.  ,  3.86,  1.86,\n",
       "        9.  ,  7.  , 12.  ,  5.  , 12.  ,  7.  ,  5.  ,  7.  ,  5.65,\n",
       "        8.  ,  8.  , 16.  ,  7.  , 16.  ,  6.  , 11.  , 13.  ])"
      ]
     },
     "execution_count": 61,
     "metadata": {},
     "output_type": "execute_result"
    }
   ],
   "source": [
    "# precio de los 62 productos\n",
    "ventas[:,0]"
   ]
  },
  {
   "cell_type": "code",
   "execution_count": 62,
   "metadata": {},
   "outputs": [
    {
     "data": {
      "text/plain": [
       "array([ 1000.,  5000.,   100.,  5000.,  1000.,   100.,  5000.,  1000.,\n",
       "       20000.,   100.,   100., 20000.,   100.,  5000., 10000.,   100.,\n",
       "         100., 20000.,   100.,   100.,  1000.,  1000.,  1000., 20000.,\n",
       "       10000.,  1000.,  1000.,   100., 10000.,   100.,  1000., 10000.,\n",
       "       20000.,  1000.,   100.,  5000.,   100.,  1000.,   100.,  1000.,\n",
       "       20000.,  1000.,  1000.,   100.,  1000.,  1000.,  1000.,  1000.,\n",
       "        5000.,  5000.,  1000.,  1000., 10000.,  1000.,   100.,  1000.,\n",
       "        5000.,  1000., 10000., 10000., 20000., 10000.])"
      ]
     },
     "execution_count": 62,
     "metadata": {},
     "output_type": "execute_result"
    }
   ],
   "source": [
    "# unidades vendidas de los 62 productos\n",
    "ventas[:,2]"
   ]
  },
  {
   "cell_type": "code",
   "execution_count": 63,
   "metadata": {},
   "outputs": [
    {
     "name": "stdout",
     "output_type": "stream",
     "text": [
      "5 Color Women's Fashion Summer Slim Sleeveless Camouflage Print Dress High Waist Lace Up Casual Pocket Mini Dresses Plus Size S-5XL\n",
      "[  13.   13. 1000.   82.   27.   10.    7.   12.]\n"
     ]
    }
   ],
   "source": [
    "# Valores del primer producto\n",
    "print(nombres[0])\n",
    "print(ventas[0,:])"
   ]
  }
 ],
 "metadata": {
  "kernelspec": {
   "display_name": "Python 3",
   "language": "python",
   "name": "python3"
  },
  "language_info": {
   "codemirror_mode": {
    "name": "ipython",
    "version": 3
   },
   "file_extension": ".py",
   "mimetype": "text/x-python",
   "name": "python",
   "nbconvert_exporter": "python",
   "pygments_lexer": "ipython3",
   "version": "3.8.3"
  }
 },
 "nbformat": 4,
 "nbformat_minor": 4
}
