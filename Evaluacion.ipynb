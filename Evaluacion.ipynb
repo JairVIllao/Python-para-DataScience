{
 "cells": [
  {
   "cell_type": "markdown",
   "metadata": {},
   "source": [
    "# Evaluación"
   ]
  },
  {
   "cell_type": "markdown",
   "metadata": {},
   "source": [
    "## Referencias\n",
    "\n",
    "El dataset original a utilizar se encuentra en [Students Performance](https://www.kaggle.com/spscientist/students-performance-in-exams)."
   ]
  },
  {
   "cell_type": "markdown",
   "metadata": {},
   "source": [
    "## Instrucciones"
   ]
  },
  {
   "cell_type": "markdown",
   "metadata": {},
   "source": [
    "Dentro de la carpeta 'datos/evaluacion' se encuentran los siguientes archivos: genero.csv, notas.csv y preparacion.csv.\n",
    "\n",
    "* El archivo genero.csv contiene los valores de 'female' y 'male'.\n",
    "* El archivo preparacion.csv contiene los valores de 'none' y 'completed'.\n",
    "* El archivo notas.csv contiene, en orden, las notas para las evaluaciones de matemáticas, lectura y escritura. \n",
    "\n",
    "Realice las siguientes actividades:\n",
    "\n",
    "* Muestre las 7 últimas filas de notas\n",
    "* Muestre la nota total por cada alumno\n",
    "* Muestre el promedio del total de notas\n",
    "* Muestre la cantidad de notas totales que sean mayor o igual que 65\n",
    "* Muestre las 10 mejores notas, en orden descendente.\n",
    "* Muestre la nota máxima en matemáticas y el cantidad de alumnos con la nota máxima.\n",
    "* Muestre el número de 'female' y 'male' que dieron el examen. Además muestre un gráfico con los resultados.\n",
    "* Muestre el número de evaluaciones con preparación 'completed' por género ('female' y 'male'). "
   ]
  }
 ],
 "metadata": {
  "kernelspec": {
   "display_name": "Python 3",
   "language": "python",
   "name": "python3"
  },
  "language_info": {
   "codemirror_mode": {
    "name": "ipython",
    "version": 3
   },
   "file_extension": ".py",
   "mimetype": "text/x-python",
   "name": "python",
   "nbconvert_exporter": "python",
   "pygments_lexer": "ipython3",
   "version": "3.8.3"
  }
 },
 "nbformat": 4,
 "nbformat_minor": 4
}
